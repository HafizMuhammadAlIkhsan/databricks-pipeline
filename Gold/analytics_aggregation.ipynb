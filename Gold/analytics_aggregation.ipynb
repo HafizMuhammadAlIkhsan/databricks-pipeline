{
 "cells": [
  {
   "cell_type": "code",
   "execution_count": 0,
   "metadata": {
    "application/vnd.databricks.v1+cell": {
     "cellMetadata": {},
     "inputWidgets": {},
     "nuid": "c0058844-0034-49ef-bd76-f3890143862d",
     "showTitle": false,
     "tableResultSettingsMap": {},
     "title": ""
    }
   },
   "outputs": [],
   "source": [
    "from pyspark.sql.functions import col, sum, year\n",
    "import dlt"
   ]
  },
  {
   "cell_type": "code",
   "execution_count": 0,
   "metadata": {
    "application/vnd.databricks.v1+cell": {
     "cellMetadata": {},
     "inputWidgets": {},
     "nuid": "79002f40-b79d-4c7f-a9db-e1ab504b1342",
     "showTitle": false,
     "tableResultSettingsMap": {},
     "title": ""
    }
   },
   "outputs": [],
   "source": [
    "from pyspark.sql.functions import col, row_number, date_format, coalesce, datediff, current_date, when, lit\n",
    "from pyspark.sql.window import Window\n",
    "import dlt\n",
    "\n",
    "@dlt.table(\n",
    "    name=\"gold_opportunities_with_latest_change\",\n",
    "    comment=\"Combines silver_crm_opportunities with latest change_date, stage, closing month, and overdue status for valid stage changes.\"\n",
    ")\n",
    "def gold_opportunities_with_latest_change():\n",
    "    opportunities_df = dlt.read(\"silver_crm_opportunities\")\n",
    "    field_history_df = dlt.read(\"silver_crm_field_history\")\n",
    "\n",
    "    valid_stages = [\"New\", \"New Stage\", \"Qualified\", \"Proposition\", \"Won\", \"Lost\",]\n",
    "    latest_field_history = field_history_df \\\n",
    "        .filter(col(\"crm_id\").isNotNull()) \\\n",
    "        .filter((col(\"field_info\") == \"stage_id\") & col(\"new_value\").isin(valid_stages)) \\\n",
    "        .withColumn(\n",
    "            \"rn\",\n",
    "            row_number().over(\n",
    "                Window.partitionBy(\"crm_id\").orderBy(col(\"change_date\").desc())\n",
    "            )\n",
    "        ) \\\n",
    "        .filter(col(\"rn\") == 1) \\\n",
    "        .select(\n",
    "            col(\"crm_id\"),\n",
    "            col(\"change_date\").alias(\"latest_change_date\"),\n",
    "            col(\"new_value\").alias(\"latest_stage\")\n",
    "        )\n",
    "    \n",
    "    opportunities_enriched = opportunities_df \\\n",
    "        .withColumn(\n",
    "            \"closing_month\",\n",
    "            date_format(coalesce(col(\"expected_closing_date\"), col(\"create_date\")), \"MMMM\")\n",
    "        )\n",
    "\n",
    "    final_df = opportunities_enriched.join(\n",
    "        latest_field_history,\n",
    "        opportunities_enriched.opportunity_id == latest_field_history.crm_id,\n",
    "        \"left\"\n",
    "    ).drop(\"crm_id\") \\\n",
    "     .withColumn(\n",
    "         \"is_overdue\",\n",
    "         when(\n",
    "             datediff(current_date(), coalesce(col(\"latest_change_date\"), col(\"create_date\"))) > 14,\n",
    "             lit(True)\n",
    "         ).otherwise(lit(False))\n",
    "     ) \\\n",
    "     .withColumn(\n",
    "         \"days_overdue\",\n",
    "         datediff(current_date(), coalesce(col(\"latest_change_date\"), col(\"create_date\")))\n",
    "     ) \\\n",
    "     .na.fill({\n",
    "         \"latest_change_date\": \"1970-01-01 00:00:00\",\n",
    "         \"latest_stage\": \"Unknown\",\n",
    "         \"closing_month\": \"Unknown\",\n",
    "         \"days_overdue\": 0\n",
    "     })\n",
    "    \n",
    "    return final_df"
   ]
  }
 ],
 "metadata": {
  "application/vnd.databricks.v1+notebook": {
   "computePreferences": null,
   "dashboards": [],
   "environmentMetadata": {
    "base_environment": "",
    "environment_version": "2"
   },
   "inputWidgetPreferences": null,
   "language": "python",
   "notebookMetadata": {
    "pythonIndentUnit": 4
   },
   "notebookName": "analytics_aggregation",
   "widgets": {}
  },
  "language_info": {
   "name": "python"
  }
 },
 "nbformat": 4,
 "nbformat_minor": 0
}
